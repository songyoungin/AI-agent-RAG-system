{
 "cells": [
  {
   "cell_type": "markdown",
   "metadata": {},
   "source": [
    "### 환경변수 로드"
   ]
  },
  {
   "cell_type": "code",
   "execution_count": 1,
   "metadata": {},
   "outputs": [
    {
     "data": {
      "text/plain": [
       "True"
      ]
     },
     "execution_count": 1,
     "metadata": {},
     "output_type": "execute_result"
    }
   ],
   "source": [
    "from dotenv import load_dotenv\n",
    "\n",
    "load_dotenv()"
   ]
  },
  {
   "cell_type": "markdown",
   "metadata": {},
   "source": [
    "### 1. invoke 메소드를 통한 Runnable 실행"
   ]
  },
  {
   "cell_type": "code",
   "execution_count": 3,
   "metadata": {},
   "outputs": [
    {
     "data": {
      "text/plain": [
       "'지구 자전이란 지구가 자신의 축 주위를 회전하는 현상을 말합니다. 지구는 서쪽으로 자전하는데, 이로 인해 낮과 밤이 생기고 계절이 변하는 현상이 발생합니다. 지구 자전은 지구의 자기장과 기후에도 영향을 미치는 중요한 요소 중 하나입니다. 지구 자전은 지구의 지름이 불균일하고 지구의 고도가 불균일하기 때문에 일정한 속도로 회전하지 않는데, 이를 교정하기 위해 율동이 발생합니다.'"
      ]
     },
     "execution_count": 3,
     "metadata": {},
     "output_type": "execute_result"
    }
   ],
   "source": [
    "from langchain.prompts import ChatPromptTemplate\n",
    "from langchain_openai import ChatOpenAI\n",
    "from langchain.schema.output_parser import StrOutputParser\n",
    "\n",
    "\n",
    "# 체인의 각 컴포넌트를 정의\n",
    "prompt = ChatPromptTemplate.from_template(\n",
    "    \"지구과학에서 {topic}에 대해 간단히 설명해주세요.\"\n",
    ")\n",
    "llm = ChatOpenAI(model=\"gpt-3.5-turbo\")\n",
    "output_parser = StrOutputParser()\n",
    "\n",
    "# 체인 생성\n",
    "chain = prompt | llm | output_parser\n",
    "\n",
    "# invoke 메소드를 통한 체인 실행\n",
    "chain.invoke({\"topic\": \"지구 자전\"})"
   ]
  },
  {
   "cell_type": "markdown",
   "metadata": {},
   "source": [
    "### 2. batch 메소드를 통한 Runnable 실행"
   ]
  },
  {
   "cell_type": "code",
   "execution_count": 4,
   "metadata": {},
   "outputs": [
    {
     "data": {
      "text/plain": [
       "['지구는 태양 주위를 공전하는데, 이는 태양 주위를 도는 원운동을 하는 것을 의미합니다. 이 공전 운동은 지구가 태양 주위를 한 바퀴 도는 데 약 365.25일이 걸리며, 이를 한 해로 정의하고 있습니다. 이 공전 운동으로 인해 지구는 계절 변화를 경험하게 되며, 태양으로부터 받는 에너지의 양도 변화하게 됩니다.',\n",
       " '화산 활동은 지구의 지하에 있는 마그마가 지표면으로 흐르거나 폭발하는 현상을 말합니다. 화산은 지각 변동이나 지구의 지열 활동으로 인해 발생하며, 화산이 폭발하면 뜨거운 용암, 가스, 재와 함께 화산재가 분출됩니다. 이러한 화산 활동은 산소와 이산화탄소 등의 가스를 대기로 방출하여 대기 환경에 영향을 미치기도 하며, 용암이 흐르면서 지형을 변형시키고 산업 및 농업 활동에 영향을 줄 수도 있습니다. 화산 활동은 지구의 지각 활동과 지구과학 연구에 중요한 역할을 합니다.',\n",
       " '대륙 이동은 지구의 지각 변동 현상 중 하나로, 대륙들이 서로 이동하거나 움직이는 현상을 말합니다. 대륙 이동은 주로 티타닉 판과 플레이트 테크토닉 이론에 의해 설명되며, 플레이트 테크토닉 이론에 따르면 지구 표면은 여러 개의 큰 플레이트로 나누어져 있고, 이 플레이트들이 서로 충돌하거나 멀어지면서 대륙 이동이 발생합니다. 대륙 이동은 지진, 화산 폭발, 산맥 형성 등 다양한 지질 현상을 유발하며, 지구의 지각 변동의 중요한 요소 중 하나입니다.']"
      ]
     },
     "execution_count": 4,
     "metadata": {},
     "output_type": "execute_result"
    }
   ],
   "source": [
    "topics = [\"지구 공전\", \"화산 활동\", \"대륙 이동\"]\n",
    "\n",
    "# batch 메소드를 통한 체인 실행\n",
    "chain.batch([{\"topic\": t} for t in topics])"
   ]
  },
  {
   "cell_type": "markdown",
   "metadata": {},
   "source": [
    "### 3. stream 메소드를 통한 Runnable 실행"
   ]
  },
  {
   "cell_type": "code",
   "execution_count": 5,
   "metadata": {},
   "outputs": [
    {
     "name": "stdout",
     "output_type": "stream",
     "text": [
      "지구 자전은 지구가 자신의 축 주위로 회전하는 현상을 말합니다. 지구는 서쪽으로 회전하며, 이로 인해 일정한 시간 간격으로 낮과 밤이 생기고 계절이 변화합니다. 이 자전 운동은 하루 24시간 동안 한 번 일어나며, 지구의 자전속도는 적도에 가까울수록 빠르고 극지방에 가까울수록 느립니다. 이러한 지구 자전은 지구의 자기장을 생성하고, 해류, 바람, 기압 등 지구 대기와 해양 현상에도 영향을 미칩니다."
     ]
    }
   ],
   "source": [
    "stream = chain.stream({\"topic\": \"지구 자전\"})\n",
    "for chunk in stream:\n",
    "    print(chunk, end=\"\", flush=True)"
   ]
  },
  {
   "cell_type": "markdown",
   "metadata": {},
   "source": [
    "### 4. ainvoke 메소드를 통한 Runnable 실행"
   ]
  },
  {
   "cell_type": "code",
   "execution_count": 6,
   "metadata": {},
   "outputs": [
    {
     "name": "stdout",
     "output_type": "stream",
     "text": [
      "ainvoke 메소드를 통한 체인 실행 결과: 지구 자전은 지구가 자기 주변을 돌면서 자전하는 현상을 말합니다. 지구는 자전하는 동안 지구 중심축 주위를 돌아가는데, 이로 인해 지구의 낮과 밤이 생기고 계절이 변화합니다. 지구 자전은 일정한 속도와 방향으로 일어나며, 자전하는 속도는 적도에 가까울수록 빠릅니다. 지구 자전은 지구의 자력과 태양의 중력에 의해 일어나며, 하루 하루가 24시간으로 이루어져 있습니다.\n"
     ]
    }
   ],
   "source": [
    "import nest_asyncio\n",
    "import asyncio\n",
    "\n",
    "nest_asyncio.apply()\n",
    "\n",
    "\n",
    "async def run_async():\n",
    "    result = await chain.ainvoke({\"topic\": \"지구 자전\"})\n",
    "    print(f\"ainvoke 메소드를 통한 체인 실행 결과: {result}\")\n",
    "\n",
    "\n",
    "asyncio.run(run_async())"
   ]
  },
  {
   "cell_type": "code",
   "execution_count": null,
   "metadata": {},
   "outputs": [],
   "source": []
  }
 ],
 "metadata": {
  "kernelspec": {
   "display_name": ".venv",
   "language": "python",
   "name": "python3"
  },
  "language_info": {
   "codemirror_mode": {
    "name": "ipython",
    "version": 3
   },
   "file_extension": ".py",
   "mimetype": "text/x-python",
   "name": "python",
   "nbconvert_exporter": "python",
   "pygments_lexer": "ipython3",
   "version": "3.12.8"
  }
 },
 "nbformat": 4,
 "nbformat_minor": 2
}
