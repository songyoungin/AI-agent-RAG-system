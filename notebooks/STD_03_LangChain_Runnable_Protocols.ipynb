{
 "cells": [
  {
   "cell_type": "markdown",
   "metadata": {},
   "source": [
    "### 환경변수 로드"
   ]
  },
  {
   "cell_type": "code",
   "execution_count": 1,
   "metadata": {},
   "outputs": [
    {
     "data": {
      "text/plain": [
       "True"
      ]
     },
     "execution_count": 1,
     "metadata": {},
     "output_type": "execute_result"
    }
   ],
   "source": [
    "from dotenv import load_dotenv\n",
    "\n",
    "load_dotenv()"
   ]
  },
  {
   "cell_type": "markdown",
   "metadata": {},
   "source": [
    "### 1. invoke 메소드를 통한 Runnable 실행"
   ]
  },
  {
   "cell_type": "code",
   "execution_count": 6,
   "metadata": {},
   "outputs": [
    {
     "data": {
      "text/plain": [
       "'지구 자전은 지구가 자신의 축을 중심으로 회전하는 운동입니다.  서쪽에서 동쪽으로 회전하며, 한 바퀴 도는 데 약 24시간(정확히는 23시간 56분 4초)이 걸립니다.  이 자전 때문에 우리는 낮과 밤을 경험하고, 또한 코리올리 효과와 같은 기상 현상에도 영향을 미칩니다.  지구의 자전축은 지구의 공전 궤도면에 대해 약 23.5도 기울어져 있는데, 이 기울기 때문에 계절 변화가 발생합니다.\\n'"
      ]
     },
     "execution_count": 6,
     "metadata": {},
     "output_type": "execute_result"
    }
   ],
   "source": [
    "import os\n",
    "\n",
    "from langchain.prompts import ChatPromptTemplate\n",
    "from langchain_google_genai import ChatGoogleGenerativeAI\n",
    "from langchain.schema.output_parser import StrOutputParser\n",
    "\n",
    "\n",
    "# 체인의 각 컴포넌트를 정의\n",
    "prompt = ChatPromptTemplate.from_template(\n",
    "    \"지구과학에서 {topic}에 대해 간단히 설명해주세요.\"\n",
    ")\n",
    "llm = ChatGoogleGenerativeAI(\n",
    "    model=\"gemini-1.5-flash\",\n",
    "    api_key=os.getenv(\"GEMINI_API_KEY\"),\n",
    "    temperature=0,\n",
    ")\n",
    "output_parser = StrOutputParser()\n",
    "\n",
    "# 체인 생성\n",
    "chain = prompt | llm | output_parser\n",
    "\n",
    "# invoke 메소드를 통한 체인 실행\n",
    "chain.invoke({\"topic\": \"지구 자전\"})"
   ]
  },
  {
   "cell_type": "markdown",
   "metadata": {},
   "source": [
    "### 2. batch 메소드를 통한 Runnable 실행"
   ]
  },
  {
   "cell_type": "code",
   "execution_count": 7,
   "metadata": {},
   "outputs": [
    {
     "data": {
      "text/plain": [
       "['지구 공전은 지구가 태양 주위를 타원형 궤도를 따라 도는 운동입니다.  이 공전은 약 365.25일, 즉 1년이 걸립니다.  이 타원형 궤도 때문에 지구와 태양 사이의 거리는 일정하지 않고, 근일점(태양에 가장 가까운 지점)과 원일점(태양에서 가장 먼 지점)이 존재합니다.  지구의 공전은 계절 변화의 주요 원인 중 하나이며, 지구의 자전축이 공전 면에 대해 23.5도 기울어져 있기 때문에 발생하는 현상입니다.\\n',\n",
       " '지구과학에서 화산 활동은 지구 내부의 마그마가 지표면으로 분출되는 현상을 말합니다.  마그마는 지구 내부의 높은 온도와 압력으로 인해 암석이 녹아 생성된 용융된 암석 물질입니다.  이 마그마가 지각의 약한 부분이나 균열을 통해 상승하여 분출되는 과정이 화산 활동입니다.\\n\\n화산 활동은 다양한 형태로 나타납니다.  분출되는 마그마의 점성(끈적끈적한 정도), 가스 함량, 지하수와의 상호작용 등에 따라  폭발적인 분출(화산 폭발)이나 조용한 분출(용암 분출)이 일어납니다.  폭발적인 분출은 화산재, 화산가스, 화산암괴 등을 대기 중으로 뿜어내며, 조용한 분출은 용암류를 형성합니다.\\n\\n화산 활동은 지구의 지각 변동과 밀접한 관련이 있으며, 판구조론으로 설명됩니다.  대부분의 화산은 판의 경계, 특히 발산형 경계(해령)와 수렴형 경계(해구)에서 발생합니다.  하지만 판 내부에서도 맨틀 플룸 등의 영향으로 화산 활동이 일어날 수 있습니다.\\n\\n화산 활동은 위험한 자연 현상이지만, 토양의 비옥도를 높이고 지열 에너지를 제공하는 등 인류에게 이로운 측면도 가지고 있습니다.\\n',\n",
       " '대륙 이동설은 지구의 대륙들이 과거에 하나로 붙어 있었다가 현재의 위치로 이동했다는 이론입니다.  알프레드 베게너가 20세기 초에 제시한 이 가설은 여러 증거들을 바탕으로 합니다.  예를 들어,  남아메리카와 아프리카 대륙의 해안선이 서로 잘 맞아떨어지는 것,  같은 종류의 화석이 서로 멀리 떨어진 대륙에서 발견되는 것,  지질학적 구조의 연속성 등이 있습니다.\\n\\n하지만 베게너는 대륙이 이동하는 *원동력*을 제시하지 못해 당시 학계에서 널리 받아들여지지 못했습니다.  후에 판구조론이 등장하면서 대륙 이동의 원동력이 맨틀의 대류와 판의 이동으로 설명되면서 대륙 이동설은 핵심적인 부분으로 자리 잡았습니다.  판구조론은 지구 표면이 여러 개의 판으로 나뉘어져 있고, 이 판들이 맨틀의 대류에 의해 서로 이동한다는 이론입니다.  대륙은 이 판들 위에 떠 있기 때문에 판의 이동에 따라 대륙도 이동하는 것입니다.\\n\\n결론적으로, 대륙 이동은 과거 하나로 연결되어 있던 대륙들이 판구조론에 의해 설명되는 맨틀 대류에 의해 현재의 위치로 이동한 과정을 말합니다.\\n']"
      ]
     },
     "execution_count": 7,
     "metadata": {},
     "output_type": "execute_result"
    }
   ],
   "source": [
    "topics = [\"지구 공전\", \"화산 활동\", \"대륙 이동\"]\n",
    "\n",
    "# batch 메소드를 통한 체인 실행\n",
    "chain.batch([{\"topic\": t} for t in topics])"
   ]
  },
  {
   "cell_type": "markdown",
   "metadata": {},
   "source": [
    "### 3. stream 메소드를 통한 Runnable 실행"
   ]
  },
  {
   "cell_type": "code",
   "execution_count": 8,
   "metadata": {},
   "outputs": [
    {
     "name": "stdout",
     "output_type": "stream",
     "text": [
      "지구 자전은 지구가 자신의 축을 중심으로 회전하는 운동입니다.  서쪽에서 동쪽으로 회전하며, 한 바퀴 도는 데 약 24시간(정확히는 23시간 56분 4초)이 걸립니다.  이 자전 때문에 우리는 낮과 밤을 경험하고, 또한 코리올리 효과와 같은 기상 현상에도 영향을 미칩니다.  지구의 자전축은 지구의 공전 궤도면에 대해 약 23.5도 기울어져 있는데, 이 기울기 때문에 계절 변화가 발생합니다.\n"
     ]
    }
   ],
   "source": [
    "stream = chain.stream({\"topic\": \"지구 자전\"})\n",
    "for chunk in stream:\n",
    "    print(chunk, end=\"\", flush=True)"
   ]
  },
  {
   "cell_type": "markdown",
   "metadata": {},
   "source": [
    "### 4. ainvoke 메소드를 통한 Runnable 실행"
   ]
  },
  {
   "cell_type": "code",
   "execution_count": 9,
   "metadata": {},
   "outputs": [
    {
     "name": "stdout",
     "output_type": "stream",
     "text": [
      "ainvoke 메소드를 통한 체인 실행 결과: 지구 자전은 지구가 자신의 축을 중심으로 회전하는 운동입니다.  서쪽에서 동쪽으로 회전하며, 한 바퀴 도는 데 약 24시간(정확히는 23시간 56분 4초)이 걸립니다.  이 자전 때문에 우리는 낮과 밤을 경험하고, 또한 코리올리 효과와 같은 기상 현상에도 영향을 미칩니다.  지구의 자전축은 지구 궤도면에 대해 약 23.5도 기울어져 있는데, 이 기울기 때문에 계절 변화가 발생합니다.\n",
      "\n"
     ]
    }
   ],
   "source": [
    "import nest_asyncio\n",
    "import asyncio\n",
    "\n",
    "nest_asyncio.apply()\n",
    "\n",
    "\n",
    "async def run_async():\n",
    "    result = await chain.ainvoke({\"topic\": \"지구 자전\"})\n",
    "    print(f\"ainvoke 메소드를 통한 체인 실행 결과: {result}\")\n",
    "\n",
    "\n",
    "asyncio.run(run_async())"
   ]
  },
  {
   "cell_type": "code",
   "execution_count": null,
   "metadata": {},
   "outputs": [],
   "source": []
  }
 ],
 "metadata": {
  "kernelspec": {
   "display_name": ".venv",
   "language": "python",
   "name": "python3"
  },
  "language_info": {
   "codemirror_mode": {
    "name": "ipython",
    "version": 3
   },
   "file_extension": ".py",
   "mimetype": "text/x-python",
   "name": "python",
   "nbconvert_exporter": "python",
   "pygments_lexer": "ipython3",
   "version": "3.12.8"
  }
 },
 "nbformat": 4,
 "nbformat_minor": 2
}
